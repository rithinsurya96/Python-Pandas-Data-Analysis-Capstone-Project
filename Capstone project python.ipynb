{
 "cells": [
  {
   "cell_type": "code",
   "execution_count": 36,
   "id": "31442df6-cb09-4eca-8a64-93d67ce48a9b",
   "metadata": {},
   "outputs": [],
   "source": [
    "import pandas as pd\n",
    "import numpy as np\n",
    "\n",
    "# Task 1: Creating the dataframes\n",
    "# Employee DataFrame\n",
    "employee_data = {\n",
    "    'ID': ['A001', 'A002', 'A003', 'A004', 'A005'],\n",
    "    'Name': ['John Alter', 'Alice Luxumberg', 'Tom Sabestine', 'Nina Adgra', 'Amy Johny'],\n",
    "    'Gender': ['M', 'F', 'M', 'F', 'F'],\n",
    "    'City': ['Paris', 'London', 'Berlin', 'Newyork', 'Madrid'],\n",
    "    'Age': [25, 27, 29, 31, 30]\n",
    "}\n",
    "employee_df = pd.DataFrame(employee_data)\n",
    "employee_df.to_csv('employee.csv', index=False)\n",
    "\n",
    "# Project DataFrame\n",
    "project_data = {\n",
    "    'ID': ['A001', 'A002', 'A003', 'A004', 'A005', 'A002', 'A005', 'A003', 'A001', 'A003', 'A001', 'A004', 'A004', 'A005'],\n",
    "    'Project': ['Project 1', 'Project 2', 'Project 3', 'Project 4', 'Project 5', 'Project 6', 'Project 7', 'Project 8', 'Project 9', 'Project 10', 'Project 11', 'Project 12', 'Project 13', 'Project 14'],\n",
    "    'Cost': [10002000, 2000000, 4500000, 5500000, np.nan, 680000, 400000, 350000, np.nan, 300000, 2000000, 1000000, 3000000, 200000],\n",
    "    'Status': ['Finished', 'Ongoing', 'Finished', 'Ongoing', 'Finished', 'Failed', 'Finished', 'Failed', 'Ongoing', 'Finished', 'Finished', 'Ongoing', 'Finished', 'Finished']\n",
    "}\n",
    "project_df = pd.DataFrame(project_data)\n",
    "project_df.to_csv('project.csv', index=False)\n",
    "\n",
    "# Seniority Level DataFrame\n",
    "seniority_data = {\n",
    "    'ID': ['A001', 'A002', 'A003', 'A004', 'A005'],\n",
    "    'Designation Level': [2, 2, 3, 2, 3]\n",
    "}\n",
    "seniority_df = pd.DataFrame(seniority_data)\n",
    "seniority_df.to_csv('seniority.csv', index=False)\n",
    "\n",
    "# As we have created the data frames, now we can Load dataframes from the created csv files for remaining tasks\n",
    "employee_df = pd.read_csv('employee.csv')\n",
    "project_df = pd.read_csv('project.csv')\n",
    "seniority_df = pd.read_csv('seniority.csv')"
   ]
  },
  {
   "cell_type": "code",
   "execution_count": 37,
   "id": "b52cae37-479c-43cc-94be-c0bcf1f8f3ea",
   "metadata": {},
   "outputs": [
    {
     "name": "stdout",
     "output_type": "stream",
     "text": [
      "Project DataFrame after handling missing values:\n",
      "      ID     Project        Cost    Status\n",
      "0   A001   Project 1  10002000.0  Finished\n",
      "1   A002   Project 2   2000000.0   Ongoing\n",
      "2   A003   Project 3   4500000.0  Finished\n",
      "3   A004   Project 4   5500000.0   Ongoing\n",
      "4   A005   Project 5   5500500.0  Finished\n",
      "5   A002   Project 6    680000.0    Failed\n",
      "6   A005   Project 7    400000.0  Finished\n",
      "7   A003   Project 8    350000.0    Failed\n",
      "8   A001   Project 9   3616562.5   Ongoing\n",
      "9   A003  Project 10    300000.0  Finished\n",
      "10  A001  Project 11   2000000.0  Finished\n",
      "11  A004  Project 12   1000000.0   Ongoing\n",
      "12  A004  Project 13   3000000.0  Finished\n",
      "13  A005  Project 14    200000.0  Finished\n"
     ]
    }
   ],
   "source": [
    "# Task 2: Replaceing missing values in 'Cost' with the running average\n",
    "\n",
    "# Firstly we will indentify the missing values using the below code\n",
    "missing_indices = project_df[project_df['Cost'].isnull()].index\n",
    "\n",
    "# Now we will be iterateing through the dataframe and replace the missing values\n",
    "for i in missing_indices:\n",
    "    \n",
    "    # Now we are calculating the average of the costs up to the current row (excluding the NaN)\n",
    "    cost_mean = project_df['Cost'].iloc[:i].mean()\n",
    "    project_df.loc[i, 'Cost'] = cost_mean\n",
    "\n",
    "# As we have calcuated the average now let's check the result\n",
    "print(\"Project DataFrame after handling missing values:\")\n",
    "print(project_df)"
   ]
  },
  {
   "cell_type": "code",
   "execution_count": 38,
   "id": "34a6cca6-2dac-417d-9101-f956f28618e9",
   "metadata": {},
   "outputs": [
    {
     "name": "stdout",
     "output_type": "stream",
     "text": [
      "\n",
      "Employee DataFrame after splitting 'Name' column:\n",
      "     ID Gender     City  Age First Name  Last Name\n",
      "0  A001      M    Paris   25       John      Alter\n",
      "1  A002      F   London   27      Alice  Luxumberg\n",
      "2  A003      M   Berlin   29        Tom  Sabestine\n",
      "3  A004      F  Newyork   31       Nina      Adgra\n",
      "4  A005      F   Madrid   30        Amy      Johny\n"
     ]
    }
   ],
   "source": [
    "# Task 3: Split the 'Name' column and drop the original\n",
    "employee_df[['First Name', 'Last Name']] = employee_df['Name'].str.split(' ', expand=True)\n",
    "employee_df = employee_df.drop('Name', axis=1)\n",
    "\n",
    "print(\"\\nEmployee DataFrame after splitting 'Name' column:\")\n",
    "print(employee_df)"
   ]
  },
  {
   "cell_type": "code",
   "execution_count": 39,
   "id": "b63bb140-f4a6-4573-a320-09ae078cc0d5",
   "metadata": {},
   "outputs": [
    {
     "name": "stdout",
     "output_type": "stream",
     "text": [
      "\n",
      "Final DataFrame after joining all three dataframes:\n",
      "      ID Gender     City  Age First Name  Last Name  Designation Level  \\\n",
      "0   A001      M    Paris   25       John      Alter                  2   \n",
      "1   A001      M    Paris   25       John      Alter                  2   \n",
      "2   A001      M    Paris   25       John      Alter                  2   \n",
      "3   A002      F   London   27      Alice  Luxumberg                  2   \n",
      "4   A002      F   London   27      Alice  Luxumberg                  2   \n",
      "5   A003      M   Berlin   29        Tom  Sabestine                  3   \n",
      "6   A003      M   Berlin   29        Tom  Sabestine                  3   \n",
      "7   A003      M   Berlin   29        Tom  Sabestine                  3   \n",
      "8   A004      F  Newyork   31       Nina      Adgra                  2   \n",
      "9   A004      F  Newyork   31       Nina      Adgra                  2   \n",
      "10  A004      F  Newyork   31       Nina      Adgra                  2   \n",
      "11  A005      F   Madrid   30        Amy      Johny                  3   \n",
      "12  A005      F   Madrid   30        Amy      Johny                  3   \n",
      "13  A005      F   Madrid   30        Amy      Johny                  3   \n",
      "\n",
      "       Project        Cost    Status  \n",
      "0    Project 1  10002000.0  Finished  \n",
      "1    Project 9   3616562.5   Ongoing  \n",
      "2   Project 11   2000000.0  Finished  \n",
      "3    Project 2   2000000.0   Ongoing  \n",
      "4    Project 6    680000.0    Failed  \n",
      "5    Project 3   4500000.0  Finished  \n",
      "6    Project 8    350000.0    Failed  \n",
      "7   Project 10    300000.0  Finished  \n",
      "8    Project 4   5500000.0   Ongoing  \n",
      "9   Project 12   1000000.0   Ongoing  \n",
      "10  Project 13   3000000.0  Finished  \n",
      "11   Project 5   5500500.0  Finished  \n",
      "12   Project 7    400000.0  Finished  \n",
      "13  Project 14    200000.0  Finished  \n"
     ]
    }
   ],
   "source": [
    "# Task 4: Join all dataframes\n",
    "# First, we will join employee and seniority dataframes on 'ID'\n",
    "final_df = pd.merge(employee_df, seniority_df, on='ID', how='left')\n",
    "# Then, we will join the result with the project dataframe on 'ID'\n",
    "final_df = pd.merge(final_df, project_df, on='ID', how='left')\n",
    "\n",
    "print(\"\\nFinal DataFrame after joining all three dataframes:\")\n",
    "print(final_df)"
   ]
  },
  {
   "cell_type": "code",
   "execution_count": 40,
   "id": "5e04065d-3515-465b-b8e8-d4f77862f6d0",
   "metadata": {},
   "outputs": [
    {
     "name": "stdout",
     "output_type": "stream",
     "text": [
      "\n",
      "Final DataFrame after adding 'Bonus' column:\n",
      "      ID First Name    Status        Cost   Bonus\n",
      "0   A001       John  Finished  10002000.0  500100\n",
      "1   A001       John   Ongoing   3616562.5       0\n",
      "2   A001       John  Finished   2000000.0  100000\n",
      "3   A002      Alice   Ongoing   2000000.0       0\n",
      "4   A002      Alice    Failed    680000.0       0\n",
      "5   A003        Tom  Finished   4500000.0  225000\n",
      "6   A003        Tom    Failed    350000.0       0\n",
      "7   A003        Tom  Finished    300000.0   15000\n",
      "8   A004       Nina   Ongoing   5500000.0       0\n",
      "9   A004       Nina   Ongoing   1000000.0       0\n",
      "10  A004       Nina  Finished   3000000.0  150000\n",
      "11  A005        Amy  Finished   5500500.0  275025\n",
      "12  A005        Amy  Finished    400000.0   20000\n",
      "13  A005        Amy  Finished    200000.0   10000\n"
     ]
    }
   ],
   "source": [
    "# Task 5: Add a new bonus column\n",
    "# Firstly we will initialize the 'Bonus' column with 0\n",
    "final_df['Bonus'] = 0\n",
    "\n",
    "# Then we will apply a 5% bonus for 'Finished' projects\n",
    "final_df.loc[final_df['Status'] == 'Finished', 'Bonus'] = final_df['Cost'] * 0.05\n",
    "\n",
    "print(\"\\nFinal DataFrame after adding 'Bonus' column:\")\n",
    "print(final_df[['ID', 'First Name', 'Status', 'Cost', 'Bonus']])"
   ]
  },
  {
   "cell_type": "code",
   "execution_count": 41,
   "id": "4c1436a6-1040-45a4-88d4-bd5e0f199e2a",
   "metadata": {},
   "outputs": [
    {
     "name": "stdout",
     "output_type": "stream",
     "text": [
      "\n",
      "Final DataFrame after demoting designation and deleting records:\n",
      "      ID  Designation Level    Status\n",
      "0   A001                  2  Finished\n",
      "1   A001                  2   Ongoing\n",
      "2   A001                  2  Finished\n",
      "3   A002                  1   Ongoing\n",
      "4   A002                  1    Failed\n",
      "5   A003                  2  Finished\n",
      "6   A003                  2    Failed\n",
      "7   A003                  2  Finished\n",
      "8   A004                  2   Ongoing\n",
      "9   A004                  2   Ongoing\n",
      "10  A004                  2  Finished\n",
      "11  A005                  3  Finished\n",
      "12  A005                  3  Finished\n",
      "13  A005                  3  Finished\n"
     ]
    }
   ],
   "source": [
    "# Task 6: Demote designation and delete records\n",
    "# We will now demote designation for employees with 'Failed' projects\n",
    "failed_projects_ids = final_df[final_df['Status'] == 'Failed']['ID'].unique()\n",
    "final_df.loc[final_df['ID'].isin(failed_projects_ids), 'Designation Level'] -= 1\n",
    "\n",
    "# Now we will delete the records where 'Designation Level' is above 4\n",
    "final_df = final_df[final_df['Designation Level'] <= 4]\n",
    "\n",
    "print(\"\\nFinal DataFrame after demoting designation and deleting records:\")\n",
    "print(final_df[['ID', 'Designation Level', 'Status']])"
   ]
  },
  {
   "cell_type": "code",
   "execution_count": 42,
   "id": "b90446be-c316-422c-a4d0-ba198b9864ac",
   "metadata": {},
   "outputs": [
    {
     "name": "stdout",
     "output_type": "stream",
     "text": [
      "\n",
      "DataFrame after adding titles and dropping 'Gender' column:\n",
      "      ID  First Name  Last Name\n",
      "0   A001    Mr. John      Alter\n",
      "1   A001    Mr. John      Alter\n",
      "2   A001    Mr. John      Alter\n",
      "3   A002  Mrs. Alice  Luxumberg\n",
      "4   A002  Mrs. Alice  Luxumberg\n",
      "5   A003     Mr. Tom  Sabestine\n",
      "6   A003     Mr. Tom  Sabestine\n",
      "7   A003     Mr. Tom  Sabestine\n",
      "8   A004   Mrs. Nina      Adgra\n",
      "9   A004   Mrs. Nina      Adgra\n",
      "10  A004   Mrs. Nina      Adgra\n",
      "11  A005    Mrs. Amy      Johny\n",
      "12  A005    Mrs. Amy      Johny\n",
      "13  A005    Mrs. Amy      Johny\n"
     ]
    }
   ],
   "source": [
    "# Task 7: Add title to first name and drop gender column\n",
    "# For this we will create a copy to not alter the original final_df dataframe for other tasks\n",
    "final_df_t7 = final_df.copy()\n",
    "\n",
    "# Now we will add titles based on gender to final_df_t7 dataframe\n",
    "final_df_t7.loc[final_df_t7['Gender'] == 'M', 'First Name'] = 'Mr. ' + final_df_t7['First Name']\n",
    "final_df_t7.loc[final_df_t7['Gender'] == 'F', 'First Name'] = 'Mrs. ' + final_df_t7['First Name']\n",
    "\n",
    "# Now we will Drop the 'Gender' column\n",
    "final_df_t7 = final_df_t7.drop('Gender', axis=1)\n",
    "\n",
    "print(\"\\nDataFrame after adding titles and dropping 'Gender' column:\")\n",
    "print(final_df_t7[['ID', 'First Name', 'Last Name']])"
   ]
  },
  {
   "cell_type": "code",
   "execution_count": 43,
   "id": "e4c25661-a282-4a9e-8baf-986875a85c55",
   "metadata": {},
   "outputs": [
    {
     "name": "stdout",
     "output_type": "stream",
     "text": [
      "\n",
      "DataFrame after promoting designation for employees > 29 years old:\n",
      "      ID  Age  Designation Level\n",
      "0   A001   25                  2\n",
      "3   A002   27                  1\n",
      "5   A003   29                  2\n",
      "8   A004   31                  3\n",
      "11  A005   30                  4\n"
     ]
    }
   ],
   "source": [
    "# Task 8: Promote designation based on age\n",
    "final_df.loc[final_df['Age'] > 29, 'Designation Level'] += 1\n",
    "\n",
    "print(\"\\nDataFrame after promoting designation for employees > 29 years old:\")\n",
    "print(final_df[['ID', 'Age', 'Designation Level']].drop_duplicates())"
   ]
  },
  {
   "cell_type": "code",
   "execution_count": 44,
   "id": "0e28e06f-feb3-4739-b3a5-fee32beb612d",
   "metadata": {},
   "outputs": [
    {
     "name": "stdout",
     "output_type": "stream",
     "text": [
      "\n",
      "New DataFrame 'TotalProjCost':\n",
      "     ID First Name  Total cost\n",
      "0  A001       John  15618562.5\n",
      "1  A002      Alice   2680000.0\n",
      "2  A003        Tom   5150000.0\n",
      "3  A004       Nina   9500000.0\n",
      "4  A005        Amy   6100500.0\n"
     ]
    }
   ],
   "source": [
    "# Task 9: Calculate total project cost per employee\n",
    "# we will first group by ID and then sum the costs\n",
    "total_proj_cost_df = final_df.groupby(['ID']).agg(\n",
    "    {'Cost': 'sum', 'First Name': 'first'}\n",
    ").reset_index()\n",
    "\n",
    "# Now we will rename columns and select the required ones\n",
    "total_proj_cost_df = total_proj_cost_df.rename(columns={'Cost': 'Total cost'})[['ID', 'First Name', 'Total cost']]\n",
    "\n",
    "# We will now save to a new dataframe\n",
    "TotalProjCost = total_proj_cost_df\n",
    "\n",
    "print(\"\\nNew DataFrame 'TotalProjCost':\")\n",
    "print(TotalProjCost)"
   ]
  },
  {
   "cell_type": "code",
   "execution_count": 45,
   "id": "0c3809bd-3b79-4c16-9cf9-06e08d3b990a",
   "metadata": {},
   "outputs": [
    {
     "name": "stdout",
     "output_type": "stream",
     "text": [
      "\n",
      "Employee details where city name contains the letter 'o':\n",
      "     ID Gender     City  Age First Name  Last Name\n",
      "1  A002      F   London   27      Alice  Luxumberg\n",
      "3  A004      F  Newyork   31       Nina      Adgra\n"
     ]
    }
   ],
   "source": [
    "# Task 10: Print employee details where city name contains \"o\"\n",
    "# We will use a boolean mask to filter the rows\n",
    "employees_with_o_in_city = employee_df[employee_df['City'].str.contains('o', case=False)]\n",
    "\n",
    "print(\"\\nEmployee details where city name contains the letter 'o':\")\n",
    "print(employees_with_o_in_city)"
   ]
  },
  {
   "cell_type": "code",
   "execution_count": null,
   "id": "e83f971d-63ec-42eb-9089-5a72c1c5793a",
   "metadata": {},
   "outputs": [],
   "source": []
  }
 ],
 "metadata": {
  "kernelspec": {
   "display_name": "Python 3 (ipykernel)",
   "language": "python",
   "name": "python3"
  },
  "language_info": {
   "codemirror_mode": {
    "name": "ipython",
    "version": 3
   },
   "file_extension": ".py",
   "mimetype": "text/x-python",
   "name": "python",
   "nbconvert_exporter": "python",
   "pygments_lexer": "ipython3",
   "version": "3.13.5"
  }
 },
 "nbformat": 4,
 "nbformat_minor": 5
}
